{
  "nbformat": 4,
  "nbformat_minor": 0,
  "metadata": {
    "colab": {
      "provenance": [],
      "authorship_tag": "ABX9TyN5k+CU6SEU3/G4IXDqWQol",
      "include_colab_link": true
    },
    "kernelspec": {
      "name": "python3",
      "display_name": "Python 3"
    },
    "language_info": {
      "name": "python"
    }
  },
  "cells": [
    {
      "cell_type": "markdown",
      "metadata": {
        "id": "view-in-github",
        "colab_type": "text"
      },
      "source": [
        "<a href=\"https://colab.research.google.com/github/Arunkarthi123/hackerranker_practice/blob/main/hackerRankEg1.ipynb\" target=\"_parent\"><img src=\"https://colab.research.google.com/assets/colab-badge.svg\" alt=\"Open In Colab\"/></a>"
      ]
    },
    {
      "cell_type": "markdown",
      "source": [
        "The first line contains the integer , the number of students' records. The next lines contain the names and marks obtained by a student, each value separated by a space. The final line contains query_name, the name of a student to query."
      ],
      "metadata": {
        "id": "KKdNew4543Ic"
      }
    },
    {
      "cell_type": "markdown",
      "source": [],
      "metadata": {
        "id": "yT3jHjQ4LBGK"
      }
    },
    {
      "cell_type": "markdown",
      "source": [
        "https://www.hackerrank.com/challenges/finding-the-percentage/problem?isFullScreen=true"
      ],
      "metadata": {
        "id": "01q3gOu4-GSA"
      }
    },
    {
      "cell_type": "code",
      "execution_count": null,
      "metadata": {
        "id": "lAyJqD3d6xje"
      },
      "outputs": [],
      "source": [
        "if __name__ == '__main__':\n",
        "    n = int(input())\n",
        "    student_marks = {}\n",
        "    if 2<=n<=10:\n",
        "        for _ in range(n):\n",
        "            name, *line = input().split()\n",
        "            scores = list(map(float, line))\n",
        "            student_marks[name] = scores\n",
        "        query_name = input()\n",
        "        j=0\n",
        "        for i in student_marks[query_name]:\n",
        "          j=j+i\n",
        "        print( \"{:.2f}\".format(j / len(student_marks[query_name])))"
      ]
    },
    {
      "cell_type": "markdown",
      "source": [],
      "metadata": {
        "id": "g-jJJjRDKeUT"
      }
    },
    {
      "cell_type": "markdown",
      "source": [
        "https://www.hackerrank.com/challenges/python-lists/problem?isFullScreen=true"
      ],
      "metadata": {
        "id": "mOzJYQoHLkSG"
      }
    },
    {
      "cell_type": "code",
      "source": [
        "if __name__ == '__main__':\n",
        "    N = int(input())#getting input to get number of operations\n",
        "    l=[]\n",
        "    for i in range(N):\n",
        "        oper=input().split()#getting operations and respective values\n",
        "        if oper[0]==\"insert\":\n",
        "            a=int(oper[1])\n",
        "            b=int(oper[2])\n",
        "            l.insert(a,b)#inserting the value a at position b\n",
        "        elif oper[0]==\"append\":\n",
        "            a=int(oper[1])\n",
        "            l.append(a)#inserting at the last of the list\n",
        "        elif oper[0]==\"remove\":\n",
        "            a=int(oper[1])\n",
        "            l.remove(a)#removing the first occerance of a\n",
        "        elif oper[0]==\"sort\":\n",
        "            l.sort()#sorting the list l\n",
        "        elif oper[0]==\"pop\":\n",
        "            l.pop()#remove the last element\n",
        "        elif oper[0]==\"reverse\":\n",
        "            l.reverse()\n",
        "        elif oper[0]==\"print\":\n",
        "            print(l)\n",
        "\n"
      ],
      "metadata": {
        "id": "ye_sdJNmK0gD"
      },
      "execution_count": null,
      "outputs": []
    },
    {
      "cell_type": "markdown",
      "source": [
        "https://www.hackerrank.com/challenges/python-tuples/problem?isFullScreen=true"
      ],
      "metadata": {
        "id": "RIHOu8QHO_pd"
      }
    },
    {
      "cell_type": "code",
      "source": [
        "# Enter your code here. Read input from STDIN. Print output to STDOUT\n",
        "n=int(input())\n",
        "listt=input().split()\n",
        "my_list=map(int,listt[0:])\n",
        "my_tuple=tuple(my_list)\n",
        "print((hash(my_tuple)))"
      ],
      "metadata": {
        "id": "gvzHE0ZoO3f1"
      },
      "execution_count": null,
      "outputs": []
    },
    {
      "cell_type": "markdown",
      "source": [
        "chatgpt code"
      ],
      "metadata": {
        "id": "gpqKF6smPHOC"
      }
    },
    {
      "cell_type": "code",
      "source": [
        "if __name__ == '__main__':\n",
        "    n = int(input())  # Number of elements in the tuple\n",
        "    elements = map(int, input().split())  # Space-separated integers as input\n",
        "\n",
        "    # Create a tuple\n",
        "    my_tuple = tuple(elements)\n",
        "\n",
        "    # Print the hash value of the tuple\n",
        "    print(hash(my_tuple))\n"
      ],
      "metadata": {
        "id": "1u6Xerz3O7e9"
      },
      "execution_count": null,
      "outputs": []
    },
    {
      "cell_type": "markdown",
      "source": [
        "https://www.hackerrank.com/challenges/whats-your-name/problem?isFullScreen=true\n"
      ],
      "metadata": {
        "id": "lVxwTd6wLFIo"
      }
    },
    {
      "cell_type": "code",
      "source": [
        "#\n",
        "# Complete the 'print_full_name' function below.\n",
        "#\n",
        "# The function is expected to return a STRING.\n",
        "# The function accepts following parameters:\n",
        "#  1. STRING first\n",
        "#  2. STRING last\n",
        "#\n",
        "\n",
        "def print_full_name(first, last):\n",
        "    print(f\"Hello {first} {last}! You just delved into python.\")\n",
        "    # Write your code here\n",
        "\n",
        "if __name__ == '__main__':\n",
        "    first_name = input()\n",
        "    last_name = input()\n",
        "    print_full_name(first_name, last_name)"
      ],
      "metadata": {
        "colab": {
          "base_uri": "https://localhost:8080/"
        },
        "id": "seDB_KcNLBYu",
        "outputId": "0a262b68-2f5b-4788-8024-6a6fc3b8727c"
      },
      "execution_count": 1,
      "outputs": [
        {
          "output_type": "stream",
          "name": "stdout",
          "text": [
            "Arun\n",
            "Karthi\n",
            "Hello Arun Karthi! You just delved into python.\n"
          ]
        }
      ]
    },
    {
      "cell_type": "markdown",
      "source": [
        "https://www.hackerrank.com/challenges/find-second-maximum-number-in-a-list/problem?isFullScreen=true"
      ],
      "metadata": {
        "id": "j9uTvSnzPolV"
      }
    },
    {
      "cell_type": "code",
      "source": [
        "if __name__ == '__main__':\n",
        "    n = int(input())\n",
        "    if 2<=n and n<=10:\n",
        "        my_list=input().split()\n",
        "        arr = map(int, my_list)\n",
        "        a=set(arr)\n",
        "        b=max(a)#finding largest element\n",
        "        a.remove(b)#deleting largest element\n",
        "        b=max(a)#second finding largest element\n",
        "        print(b)"
      ],
      "metadata": {
        "id": "k0-brMpkPoNq"
      },
      "execution_count": null,
      "outputs": []
    },
    {
      "cell_type": "markdown",
      "source": [
        "# New Section"
      ],
      "metadata": {
        "id": "U9aeHHkq60ta"
      }
    }
  ]
}