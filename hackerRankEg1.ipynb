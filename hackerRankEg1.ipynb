{
  "nbformat": 4,
  "nbformat_minor": 0,
  "metadata": {
    "colab": {
      "provenance": [],
      "authorship_tag": "ABX9TyPLLXdLCGNztZnkAAYcHt6M",
      "include_colab_link": true
    },
    "kernelspec": {
      "name": "python3",
      "display_name": "Python 3"
    },
    "language_info": {
      "name": "python"
    }
  },
  "cells": [
    {
      "cell_type": "markdown",
      "metadata": {
        "id": "view-in-github",
        "colab_type": "text"
      },
      "source": [
        "<a href=\"https://colab.research.google.com/github/Arunkarthi123/hackerranker_practice/blob/main/hackerRankEg1.ipynb\" target=\"_parent\"><img src=\"https://colab.research.google.com/assets/colab-badge.svg\" alt=\"Open In Colab\"/></a>"
      ]
    },
    {
      "cell_type": "markdown",
      "source": [
        "The first line contains the integer , the number of students' records. The next lines contain the names and marks obtained by a student, each value separated by a space. The final line contains query_name, the name of a student to query."
      ],
      "metadata": {
        "id": "KKdNew4543Ic"
      }
    },
    {
      "cell_type": "markdown",
      "source": [],
      "metadata": {
        "id": "yT3jHjQ4LBGK"
      }
    },
    {
      "cell_type": "markdown",
      "source": [],
      "metadata": {
        "id": "hQJ34hFWyMOf"
      }
    },
    {
      "cell_type": "markdown",
      "source": [
        "https://www.hackerrank.com/challenges/finding-the-percentage/problem?isFullScreen=true"
      ],
      "metadata": {
        "id": "01q3gOu4-GSA"
      }
    },
    {
      "cell_type": "code",
      "execution_count": null,
      "metadata": {
        "id": "lAyJqD3d6xje"
      },
      "outputs": [],
      "source": [
        "if __name__ == '__main__':\n",
        "    n = int(input())\n",
        "    student_marks = {}\n",
        "    if 2<=n<=10:\n",
        "        for _ in range(n):\n",
        "            name, *line = input().split()\n",
        "            scores = list(map(float, line))\n",
        "            student_marks[name] = scores\n",
        "        query_name = input()\n",
        "        j=0\n",
        "        for i in student_marks[query_name]:\n",
        "          j=j+i\n",
        "        print( \"{:.2f}\".format(j / len(student_marks[query_name])))"
      ]
    },
    {
      "cell_type": "markdown",
      "source": [
        "\n",
        "\n",
        "---\n",
        "\n"
      ],
      "metadata": {
        "id": "g-jJJjRDKeUT"
      }
    },
    {
      "cell_type": "markdown",
      "source": [
        "https://www.hackerrank.com/challenges/python-lists/problem?isFullScreen=true"
      ],
      "metadata": {
        "id": "mOzJYQoHLkSG"
      }
    },
    {
      "cell_type": "code",
      "source": [
        "if __name__ == '__main__':\n",
        "    N = int(input())#getting input to get number of operations\n",
        "    l=[]\n",
        "    for i in range(N):\n",
        "        oper=input().split()#getting operations and respective values\n",
        "        if oper[0]==\"insert\":\n",
        "            a=int(oper[1])\n",
        "            b=int(oper[2])\n",
        "            l.insert(a,b)#inserting the value a at position b\n",
        "        elif oper[0]==\"append\":\n",
        "            a=int(oper[1])\n",
        "            l.append(a)#inserting at the last of the list\n",
        "        elif oper[0]==\"remove\":\n",
        "            a=int(oper[1])\n",
        "            l.remove(a)#removing the first occerance of a\n",
        "        elif oper[0]==\"sort\":\n",
        "            l.sort()#sorting the list l\n",
        "        elif oper[0]==\"pop\":\n",
        "            l.pop()#remove the last element\n",
        "        elif oper[0]==\"reverse\":\n",
        "            l.reverse()\n",
        "        elif oper[0]==\"print\":\n",
        "            print(l)\n",
        "\n"
      ],
      "metadata": {
        "id": "ye_sdJNmK0gD"
      },
      "execution_count": null,
      "outputs": []
    },
    {
      "cell_type": "markdown",
      "source": [
        "https://www.hackerrank.com/challenges/python-tuples/problem?isFullScreen=true"
      ],
      "metadata": {
        "id": "RIHOu8QHO_pd"
      }
    },
    {
      "cell_type": "code",
      "source": [
        "# Enter your code here. Read input from STDIN. Print output to STDOUT\n",
        "n=int(input())\n",
        "listt=input().split()\n",
        "my_list=map(int,listt[0:])\n",
        "my_tuple=tuple(my_list)\n",
        "print((hash(my_tuple)))"
      ],
      "metadata": {
        "id": "gvzHE0ZoO3f1"
      },
      "execution_count": null,
      "outputs": []
    },
    {
      "cell_type": "markdown",
      "source": [
        "chatgpt code"
      ],
      "metadata": {
        "id": "gpqKF6smPHOC"
      }
    },
    {
      "cell_type": "code",
      "source": [
        "if __name__ == '__main__':\n",
        "    n = int(input())  # Number of elements in the tuple\n",
        "    elements = map(int, input().split())  # Space-separated integers as input\n",
        "\n",
        "    # Create a tuple\n",
        "    my_tuple = tuple(elements)\n",
        "\n",
        "    # Print the hash value of the tuple\n",
        "    print(hash(my_tuple))\n"
      ],
      "metadata": {
        "id": "1u6Xerz3O7e9"
      },
      "execution_count": null,
      "outputs": []
    },
    {
      "cell_type": "markdown",
      "source": [
        "https://www.hackerrank.com/challenges/whats-your-name/problem?isFullScreen=true\n"
      ],
      "metadata": {
        "id": "lVxwTd6wLFIo"
      }
    },
    {
      "cell_type": "code",
      "source": [
        "#\n",
        "# Complete the 'print_full_name' function below.\n",
        "#\n",
        "# The function is expected to return a STRING.\n",
        "# The function accepts following parameters:\n",
        "#  1. STRING first\n",
        "#  2. STRING last\n",
        "#\n",
        "\n",
        "def print_full_name(first, last):\n",
        "    print(f\"Hello {first} {last}! You just delved into python.\")\n",
        "    # Write your code here\n",
        "\n",
        "if __name__ == '__main__':\n",
        "    first_name = input()\n",
        "    last_name = input()\n",
        "    print_full_name(first_name, last_name)"
      ],
      "metadata": {
        "colab": {
          "base_uri": "https://localhost:8080/"
        },
        "id": "seDB_KcNLBYu",
        "outputId": "0a262b68-2f5b-4788-8024-6a6fc3b8727c"
      },
      "execution_count": null,
      "outputs": [
        {
          "output_type": "stream",
          "name": "stdout",
          "text": [
            "Arun\n",
            "Karthi\n",
            "Hello Arun Karthi! You just delved into python.\n"
          ]
        }
      ]
    },
    {
      "cell_type": "markdown",
      "source": [
        "https://www.hackerrank.com/challenges/find-second-maximum-number-in-a-list/problem?isFullScreen=true"
      ],
      "metadata": {
        "id": "j9uTvSnzPolV"
      }
    },
    {
      "cell_type": "code",
      "source": [
        "if __name__ == '__main__':\n",
        "    n = int(input())\n",
        "    if 2<=n and n<=10:\n",
        "        my_list=input().split()\n",
        "        arr = map(int, my_list)\n",
        "        a=set(arr)\n",
        "        b=max(a)#finding largest element\n",
        "        a.remove(b)#deleting largest element\n",
        "        b=max(a)#second finding largest element\n",
        "        print(b)"
      ],
      "metadata": {
        "id": "k0-brMpkPoNq"
      },
      "execution_count": null,
      "outputs": []
    },
    {
      "cell_type": "markdown",
      "source": [
        "https://www.hackerrank.com/challenges/python-string-split-and-join/problem?isFullScreen=true"
      ],
      "metadata": {
        "id": "IVWy9OXidASZ"
      }
    },
    {
      "cell_type": "code",
      "source": [
        "def split_and_join(line):\n",
        "    # write your code here\n",
        "    line=line.split(\" \")#spliting the words seprated by space and store as list\n",
        "    line=\"-\".join(line)#join the list with -\n",
        "    return line\n",
        "\n",
        "if __name__ == '__main__':\n",
        "    line = input()\n",
        "    result = split_and_join(line)\n",
        "    print(result)"
      ],
      "metadata": {
        "id": "5F_T1OPrc-by"
      },
      "execution_count": null,
      "outputs": []
    },
    {
      "cell_type": "markdown",
      "source": [
        "https://www.hackerrank.com/challenges/find-a-string/problem?isFullScreen=true"
      ],
      "metadata": {
        "id": "iLx8F7uKGVEb"
      }
    },
    {
      "cell_type": "code",
      "source": [
        "def count_substring(string, sub_string):\n",
        "    count=0 #to count the no of occurance ofsub_string\n",
        "    for i in range(len(string)-len(sub_string)+1):\n",
        "        if string[i:i+len(sub_string)]==sub_string:#checking whether the sub_string presents or not\n",
        "            count=count+1\n",
        "\n",
        "    return count\n",
        "\n",
        "if __name__ == '__main__':\n",
        "    string = input().strip()\n",
        "    sub_string = input().strip()\n",
        "\n",
        "    count = count_substring(string, sub_string)\n",
        "    print(count)"
      ],
      "metadata": {
        "id": "Fd-eS-8RGPCI"
      },
      "execution_count": null,
      "outputs": []
    },
    {
      "cell_type": "markdown",
      "source": [
        "https://www.hackerrank.com/challenges/string-validators/problem?isFullScreen=true"
      ],
      "metadata": {
        "id": "MRXxLrhHJI8t"
      }
    },
    {
      "cell_type": "code",
      "source": [
        "if __name__ == '__main__':\n",
        "    s = input()\n",
        "    if 0<len(s) and len(s)<1000:\n",
        "        print(any(c.isalnum() for c in s))\n",
        "        print(any(c.isalpha() for c in s))\n",
        "        print(any(c.isdigit() for c in s))\n",
        "        print(any(c.islower() for c in s))\n",
        "        print(any(c.isupper()for c in s))"
      ],
      "metadata": {
        "id": "92xQAgV4GPGR"
      },
      "execution_count": null,
      "outputs": []
    },
    {
      "cell_type": "markdown",
      "source": [
        "chatgpt code\n"
      ],
      "metadata": {
        "id": "sEzVk_ABJIuT"
      }
    },
    {
      "cell_type": "code",
      "source": [
        "if __name__ == '__main__':\n",
        "    s = input()\n",
        "\n",
        "    # Check if string has any alphanumeric characters\n",
        "    print(any(char.isalnum() for char in s))\n",
        "\n",
        "    # Check if string has any alphabetical characters\n",
        "    print(any(char.isalpha() for char in s))\n",
        "\n",
        "    # Check if string has any digits\n",
        "    print(any(char.isdigit() for char in s))\n",
        "\n",
        "    # Check if string has any lowercase characters\n",
        "    print(any(char.islower() for char in s))\n",
        "\n",
        "    # Check if string has any uppercase characters\n",
        "    print(any(char.isupper() for char in s))\n"
      ],
      "metadata": {
        "id": "W6n6rjKDJHDN"
      },
      "execution_count": null,
      "outputs": []
    },
    {
      "cell_type": "markdown",
      "source": [
        "https://www.hackerrank.com/challenges/swap-case/problem?isFullScreen=true"
      ],
      "metadata": {
        "id": "eeA5gj7WewjG"
      }
    },
    {
      "cell_type": "markdown",
      "source": [
        "*italicized text*# New Section"
      ],
      "metadata": {
        "id": "U9aeHHkq60ta"
      }
    },
    {
      "cell_type": "code",
      "source": [
        "def swap_case(s):\n",
        "    if 0<len(s) and len(s)<=1000:\n",
        "\n",
        "        return s.swapcase() #function to convert upper to lower and lower to upper\n",
        "\n",
        "if __name__ == '__main__':\n",
        "    s = input()\n",
        "    result = swap_case(s)\n",
        "    print(result)"
      ],
      "metadata": {
        "id": "EuhZq0Rve3r6"
      },
      "execution_count": null,
      "outputs": []
    },
    {
      "cell_type": "markdown",
      "source": [
        "Accept a string as input. Your task is to determine if the input string is a valid password or not. For a string to be a valid password, it must satisfy all the conditions given below:\n",
        "(1) It should have at least 8 and at most 32 characters\n",
        "(2) It should start with an uppercase or lowercase letter\n",
        "(3) It should not have any of these characters: / \\ = ' \"\n",
        "(4) It should not have spaces\n",
        "It could have any character that is not mentioned in the list of characters to be avoided (points 3 and 4). Output True if the string forms a valid password and False otherwise."
      ],
      "metadata": {
        "id": "Q25OLdPrzfEY"
      }
    },
    {
      "cell_type": "code",
      "source": [
        "def valid_password(password):\n",
        "    # Condition 1: Check length\n",
        "    if not 8 <= len(password) <= 32:\n",
        "        return False\n",
        "\n",
        "    # Condition 2: Check if starts with a letter\n",
        "    if not password[0].isalpha():\n",
        "        return False\n",
        "\n",
        "    # Condition 3: Check for invalid characters\n",
        "    invalid_chars = \"/\\\\='\\\"\"\n",
        "    if any(char in invalid_chars for char in password):\n",
        "        return False\n",
        "\n",
        "    # Condition 4: Check for spaces\n",
        "    if ' ' in password:\n",
        "        return False\n",
        "\n",
        "    # If all conditions passed, return True\n",
        "    return True\n",
        "\n",
        "a=input()\n",
        "print(valid_password(a))"
      ],
      "metadata": {
        "colab": {
          "base_uri": "https://localhost:8080/"
        },
        "id": "KVqHYI4syUgr",
        "outputId": "4ae5d166-f901-474a-beeb-5a81e77fbd0b"
      },
      "execution_count": null,
      "outputs": [
        {
          "output_type": "stream",
          "name": "stdout",
          "text": [
            "ejef\n",
            "False\n"
          ]
        }
      ]
    },
    {
      "cell_type": "markdown",
      "source": [
        "https://www.hackerrank.com/test/ch1k00qp1cn/questions/6pp7f3j08q1"
      ],
      "metadata": {
        "id": "Gef6uSSMmIn5"
      }
    },
    {
      "cell_type": "code",
      "source": [
        "#!/bin/python3\n",
        "\n",
        "import math\n",
        "import os\n",
        "import random\n",
        "import re\n",
        "import sys\n",
        "\n",
        "\n",
        "class Multiset:\n",
        "    def __init__(self):\n",
        "        self.items=[]\n",
        "\n",
        "    def add(self, val):\n",
        "        # adds one occurrence of val from the multiset, if any\n",
        "        self.items.append(val)\n",
        "\n",
        "    def remove(self, val):\n",
        "        # removes one occurrence of val from the multiset, if any\n",
        "        if val in self.items:\n",
        "            self.items.remove(val)\n",
        "\n",
        "    def __contains__(self, val):\n",
        "        if val in self.items:\n",
        "            return True\n",
        "        # returns True when val is in the multiset, else returns False\n",
        "\n",
        "\n",
        "        return False\n",
        "\n",
        "    def __len__(self):\n",
        "        # returns the number of elements in the multiset\n",
        "        return len(self.items)\n",
        "if __name__ == '__main__':\n",
        "    def performOperations(operations):\n",
        "        m = Multiset()\n",
        "        result = []\n",
        "        for op_str in operations:\n",
        "            elems = op_str.split()\n",
        "            if elems[0]== 'size':\n",
        "                result.append(len(m))\n",
        "            else:\n",
        "                op, val = elems[0], int(elems[1])\n",
        "                if op == 'query':\n",
        "                    result.append(val in m)\n",
        "                elif op == 'add':\n",
        "                    m.add(val)\n",
        "                elif op == 'remove':\n",
        "                    m.remove(val)\n",
        "        return result\n",
        "\n",
        "    q = int(input())\n",
        "    operations = []\n",
        "    for _ in range(q):\n",
        "        operations.append(input())\n",
        "\n",
        "    result = performOperations(operations)\n",
        "\n",
        "    fptr = open(os.environ['OUTPUT_PATH'], 'w')\n",
        "    fptr.write('\\n'.join(map(str, result)))\n",
        "    fptr.write('\\n')\n",
        "    fptr.close()"
      ],
      "metadata": {
        "id": "yi4q_YqcmVC4"
      },
      "execution_count": null,
      "outputs": []
    },
    {
      "cell_type": "markdown",
      "source": [
        "https://www.hackerrank.com/test/ch1k00qp1cn/questions/6k7inol89sa"
      ],
      "metadata": {
        "id": "io6s6VZ_ol0D"
      }
    },
    {
      "cell_type": "code",
      "source": [
        "#!/bin/python3\n",
        "\n",
        "import math\n",
        "import os\n",
        "import random\n",
        "import re\n",
        "import sys\n",
        "\n",
        "\n",
        "#\n",
        "# Complete the 'numCells' function below.\n",
        "#\n",
        "# The function is expected to return an INTEGER.\n",
        "# The function accepts 2D_INTEGER_ARRAY grid as parameter.\n",
        "#\n",
        "\n",
        "def numCells(grid):\n",
        "    res = 0\n",
        "    for i in range(len(grid)):\n",
        "        for k in range (len(grid[0])):\n",
        "            val = grid[i][k]\n",
        "            flag = 1\n",
        "            for ii in range (max(0,i-1),min(len(grid),i+2)):\n",
        "                for kk in range(max(0,k-1),min(len(grid[0]),k+2)):\n",
        "                    if (ii,kk)!=(i,k) and val<= grid[ii][kk] :\n",
        "                         flag=0\n",
        "                         break\n",
        "                if flag == 0:\n",
        "                     break\n",
        "            else:\n",
        "                res+=1\n",
        "    return res# Write your code here\n",
        "if __name__ == '__main__':\n",
        "    fptr = open(os.environ['OUTPUT_PATH'], 'w')\n",
        "\n",
        "    grid_rows = int(input().strip())\n",
        "    grid_columns = int(input().strip())\n",
        "\n",
        "    grid = []\n",
        "\n",
        "    for _ in range(grid_rows):\n",
        "        grid.append(list(map(int, input().rstrip().split())))\n",
        "\n",
        "    result = numCells(grid)\n",
        "\n",
        "    fptr.write(str(result) + '\\n')\n",
        "\n",
        "    fptr.close()\n"
      ],
      "metadata": {
        "id": "r-8EJVgLooqQ"
      },
      "execution_count": null,
      "outputs": []
    },
    {
      "cell_type": "markdown",
      "source": [
        "https://www.hackerrank.com/test/33gp893pqhs/questions/ato4r93a7tb"
      ],
      "metadata": {
        "id": "qS32--5HCl8T"
      }
    },
    {
      "cell_type": "code",
      "source": [
        "#!/bin/python3\n",
        "\n",
        "import math\n",
        "import os\n",
        "import random\n",
        "import re\n",
        "import sys\n",
        "\n",
        "\n",
        "\n",
        "#\n",
        "# Complete the 'longestSubarray' function below.\n",
        "#\n",
        "# The function is expected to return an INTEGER.\n",
        "# The function accepts INTEGER_ARRAY arr as parameter.\n",
        "#\n",
        "\n",
        "def longestSubarray(arr):\n",
        "    # Write your code here\n",
        "    n = len(arr)\n",
        "    ans = 0\n",
        "    # O(n^2) is okay because of constraints.\n",
        "    for i in range(n):\n",
        "        w = []\n",
        "        cnt = 0\n",
        "        for j in range(i, n):\n",
        "            if arr[j] in w:\n",
        "                cnt += 1\n",
        "                continue\n",
        "            if len(w) == 0:\n",
        "                w.append(arr[j])\n",
        "            elif len(w) == 1:\n",
        "                if abs(w[0] - arr[j]) > 1:\n",
        "                    break\n",
        "                else:\n",
        "                    w.append(arr[j])\n",
        "            else:\n",
        "                break\n",
        "            cnt += 1\n",
        "        ans = max(ans, cnt)\n",
        "    return ans\n",
        "if __name__ == '__main__':\n",
        "    fptr = open(os.environ['OUTPUT_PATH'], 'w')\n",
        "\n",
        "    arr_count = int(input().strip())\n",
        "\n",
        "    arr = []\n",
        "\n",
        "    for _ in range(arr_count):\n",
        "        arr_item = int(input().strip())\n",
        "        arr.append(arr_item)\n",
        "\n",
        "    result = longestSubarray(arr)\n",
        "\n",
        "    fptr.write(str(result) + '\\n')\n",
        "\n",
        "    fptr.close()\n"
      ],
      "metadata": {
        "id": "iuzv93vgCmeK"
      },
      "execution_count": null,
      "outputs": []
    },
    {
      "cell_type": "markdown",
      "source": [
        "https://www.hackerrank.com/test/33gp893pqhs/questions/gbb03n77j4j"
      ],
      "metadata": {
        "id": "AQ58jQlAEhHU"
      }
    },
    {
      "cell_type": "code",
      "source": [
        "#!/bin/python3\n",
        "\n",
        "import math\n",
        "import os\n",
        "import random\n",
        "import re\n",
        "import sys\n",
        "\n",
        "\n",
        "\n",
        "#\n",
        "# Complete the 'findSum' function below.\n",
        "#\n",
        "# The function is expected to return a LONG_INTEGER_ARRAY.\n",
        "# The function accepts following parameters:\n",
        "#  1. INTEGER_ARRAY numbers\n",
        "#  2. 2D_INTEGER_ARRAY queries\n",
        "#\n",
        "\n",
        "def findSum(numbers, queries):\n",
        "    a = [0]\n",
        "    b = [0]\n",
        "    for x in numbers:\n",
        "        a.append(a[-1] + x)\n",
        "        b.append(b[-1] + (x == 0))\n",
        "    return [a[r] - a[l - 1] + x * (b[r] - b[l - 1]) for l, r, x in queries]\n",
        "\n",
        "\n",
        "\n",
        "if __name__ == '__main__':\n",
        "    fptr = open(os.environ['OUTPUT_PATH'], 'w')\n",
        "\n",
        "    numbers_count = int(input().strip())\n",
        "\n",
        "    numbers = []\n",
        "\n",
        "    for _ in range(numbers_count):\n",
        "        numbers_item = int(input().strip())\n",
        "        numbers.append(numbers_item)\n",
        "\n",
        "    queries_rows = int(input().strip())\n",
        "    queries_columns = int(input().strip())\n",
        "\n",
        "    queries = []\n",
        "\n",
        "    for _ in range(queries_rows):\n",
        "        queries.append(list(map(int, input().rstrip().split())))\n",
        "\n",
        "    result = findSum(numbers, queries)\n",
        "\n",
        "    fptr.write('\\n'.join(map(str, result)))\n",
        "    fptr.write('\\n')\n",
        "\n",
        "    fptr.close()\n"
      ],
      "metadata": {
        "id": "vYo1CPxqEf_V"
      },
      "execution_count": null,
      "outputs": []
    }
  ]
}